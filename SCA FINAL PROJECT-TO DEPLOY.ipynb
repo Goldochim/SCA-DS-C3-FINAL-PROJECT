{
 "cells": [
  {
   "cell_type": "markdown",
   "metadata": {},
   "source": [
    "# NIGERIAN GRADUATES FIRST JOB PREDICTION BEING GOTTEN VIA NYSC"
   ]
  },
  {
   "cell_type": "markdown",
   "metadata": {},
   "source": [
    "This project is my final project for the She Code Africa Mentorship Program for Data Science Cohort 3. The Dataset was gotten from Kaggle but extracted by Stutern(A skill development and job placement platform)"
   ]
  },
  {
   "cell_type": "code",
   "execution_count": 4,
   "metadata": {},
   "outputs": [],
   "source": [
    "#importing all relevant libraries\n",
    "import pandas as pd\n",
    "import matplotlib.pyplot as plt\n",
    "import seaborn as sns\n",
    "import numpy as np\n",
    "from sklearn.linear_model import LogisticRegression\n",
    "from sklearn.tree import DecisionTreeClassifier\n",
    "from sklearn.svm import SVC\n",
    "from sklearn.metrics import classification_report, confusion_matrix, accuracy_score\n",
    "from sklearn.preprocessing import LabelEncoder\n",
    "from sklearn.model_selection import train_test_split\n",
    "from sklearn import preprocessing\n",
    "import pickle\n",
    "%matplotlib inline"
   ]
  },
  {
   "cell_type": "code",
   "execution_count": 5,
   "metadata": {},
   "outputs": [],
   "source": [
    "#reading the datasets\n",
    "df=pd.read_csv('USE Nigerian Graduates Destination Survey 2018 (2013 -2017).csv')"
   ]
  },
  {
   "cell_type": "code",
   "execution_count": 6,
   "metadata": {},
   "outputs": [
    {
     "data": {
      "text/html": [
       "<div>\n",
       "<style scoped>\n",
       "    .dataframe tbody tr th:only-of-type {\n",
       "        vertical-align: middle;\n",
       "    }\n",
       "\n",
       "    .dataframe tbody tr th {\n",
       "        vertical-align: top;\n",
       "    }\n",
       "\n",
       "    .dataframe thead th {\n",
       "        text-align: right;\n",
       "    }\n",
       "</style>\n",
       "<table border=\"1\" class=\"dataframe\">\n",
       "  <thead>\n",
       "    <tr style=\"text-align: right;\">\n",
       "      <th></th>\n",
       "      <th>gender</th>\n",
       "      <th>grad_year</th>\n",
       "      <th>course</th>\n",
       "      <th>Poly_Uni_attended</th>\n",
       "      <th>Uni_Poly_Type</th>\n",
       "      <th>qualification</th>\n",
       "      <th>NYSC_complete</th>\n",
       "      <th>course_helped_emp</th>\n",
       "      <th>course_helped_skills</th>\n",
       "      <th>best_sector</th>\n",
       "      <th>job_search_mode</th>\n",
       "      <th>job1_reason</th>\n",
       "      <th>job1_x_qual</th>\n",
       "      <th>job1_level</th>\n",
       "      <th>job1_via_NYSC</th>\n",
       "      <th>car_rent_from_job1</th>\n",
       "    </tr>\n",
       "  </thead>\n",
       "  <tbody>\n",
       "    <tr>\n",
       "      <th>0</th>\n",
       "      <td>Male</td>\n",
       "      <td>2014</td>\n",
       "      <td>Psychology</td>\n",
       "      <td>Obafemi Awolowo University,Ile-Ife</td>\n",
       "      <td>Federal</td>\n",
       "      <td>Bachelor's degree</td>\n",
       "      <td>Yes</td>\n",
       "      <td>Strongly Disagree</td>\n",
       "      <td>Critical thinking skills, Ability to solve com...</td>\n",
       "      <td>Media</td>\n",
       "      <td>Internship</td>\n",
       "      <td>To see if I would like the type of work it inv...</td>\n",
       "      <td>Yes: the qualification was a formal requirement</td>\n",
       "      <td>Entry level</td>\n",
       "      <td>No</td>\n",
       "      <td>No</td>\n",
       "    </tr>\n",
       "    <tr>\n",
       "      <th>1</th>\n",
       "      <td>Female</td>\n",
       "      <td>2013</td>\n",
       "      <td>Economics</td>\n",
       "      <td>Bells University of Technology, Otta</td>\n",
       "      <td>Private</td>\n",
       "      <td>Bachelor's degree</td>\n",
       "      <td>Yes</td>\n",
       "      <td>Disagree</td>\n",
       "      <td>Ability to work with others, Written communica...</td>\n",
       "      <td>Consulting</td>\n",
       "      <td>Employer's website</td>\n",
       "      <td>It fitted into my career plan/it was exactly t...</td>\n",
       "      <td>Yes: the qualification was a formal requirement</td>\n",
       "      <td>Entry level</td>\n",
       "      <td>No</td>\n",
       "      <td>No</td>\n",
       "    </tr>\n",
       "    <tr>\n",
       "      <th>2</th>\n",
       "      <td>Male</td>\n",
       "      <td>2017</td>\n",
       "      <td>Mass Communication (Communication and Language...</td>\n",
       "      <td>Bowen University, Iwo</td>\n",
       "      <td>Private</td>\n",
       "      <td>Master's degree</td>\n",
       "      <td>Yes</td>\n",
       "      <td>NaN</td>\n",
       "      <td>NaN</td>\n",
       "      <td>NaN</td>\n",
       "      <td>NaN</td>\n",
       "      <td>NaN</td>\n",
       "      <td>NaN</td>\n",
       "      <td>NaN</td>\n",
       "      <td>No</td>\n",
       "      <td>NaN</td>\n",
       "    </tr>\n",
       "    <tr>\n",
       "      <th>3</th>\n",
       "      <td>Female</td>\n",
       "      <td>2013</td>\n",
       "      <td>Statistics</td>\n",
       "      <td>Ekiti State University</td>\n",
       "      <td>State</td>\n",
       "      <td>Bachelor's degree</td>\n",
       "      <td>Yes</td>\n",
       "      <td>Agree</td>\n",
       "      <td>Critical thinking skills</td>\n",
       "      <td>Advertising / Marketing / Comms</td>\n",
       "      <td>Personal contacts, including family and friends</td>\n",
       "      <td>To gain and broaden my experience in order to ...</td>\n",
       "      <td>Yes: while the qualification was not a formal ...</td>\n",
       "      <td>Managerial</td>\n",
       "      <td>No</td>\n",
       "      <td>No</td>\n",
       "    </tr>\n",
       "    <tr>\n",
       "      <th>4</th>\n",
       "      <td>Male</td>\n",
       "      <td>2015</td>\n",
       "      <td>Electrical &amp; Electronic Engineering</td>\n",
       "      <td>University of Benin</td>\n",
       "      <td>Federal</td>\n",
       "      <td>Bachelor's degree</td>\n",
       "      <td>No</td>\n",
       "      <td>Agree</td>\n",
       "      <td>Ability to work with others, Knowledge of the ...</td>\n",
       "      <td>NGO</td>\n",
       "      <td>Social media/professional networking sites</td>\n",
       "      <td>It was in the right location</td>\n",
       "      <td>No: the qualification was not required</td>\n",
       "      <td>Entry level</td>\n",
       "      <td>No</td>\n",
       "      <td>No</td>\n",
       "    </tr>\n",
       "  </tbody>\n",
       "</table>\n",
       "</div>"
      ],
      "text/plain": [
       "   gender  grad_year                                             course  \\\n",
       "0    Male       2014                                         Psychology   \n",
       "1  Female       2013                                          Economics   \n",
       "2    Male       2017  Mass Communication (Communication and Language...   \n",
       "3  Female       2013                                         Statistics   \n",
       "4    Male       2015                Electrical & Electronic Engineering   \n",
       "\n",
       "                      Poly_Uni_attended Uni_Poly_Type      qualification  \\\n",
       "0    Obafemi Awolowo University,Ile-Ife       Federal  Bachelor's degree   \n",
       "1  Bells University of Technology, Otta       Private  Bachelor's degree   \n",
       "2                 Bowen University, Iwo       Private    Master's degree   \n",
       "3                Ekiti State University         State  Bachelor's degree   \n",
       "4                   University of Benin       Federal  Bachelor's degree   \n",
       "\n",
       "  NYSC_complete  course_helped_emp  \\\n",
       "0           Yes  Strongly Disagree   \n",
       "1           Yes           Disagree   \n",
       "2           Yes                NaN   \n",
       "3           Yes              Agree   \n",
       "4            No              Agree   \n",
       "\n",
       "                                course_helped_skills  \\\n",
       "0  Critical thinking skills, Ability to solve com...   \n",
       "1  Ability to work with others, Written communica...   \n",
       "2                                                NaN   \n",
       "3                           Critical thinking skills   \n",
       "4  Ability to work with others, Knowledge of the ...   \n",
       "\n",
       "                       best_sector  \\\n",
       "0                            Media   \n",
       "1                       Consulting   \n",
       "2                              NaN   \n",
       "3  Advertising / Marketing / Comms   \n",
       "4                              NGO   \n",
       "\n",
       "                                   job_search_mode  \\\n",
       "0                                       Internship   \n",
       "1                               Employer's website   \n",
       "2                                              NaN   \n",
       "3  Personal contacts, including family and friends   \n",
       "4       Social media/professional networking sites   \n",
       "\n",
       "                                         job1_reason  \\\n",
       "0  To see if I would like the type of work it inv...   \n",
       "1  It fitted into my career plan/it was exactly t...   \n",
       "2                                                NaN   \n",
       "3  To gain and broaden my experience in order to ...   \n",
       "4                       It was in the right location   \n",
       "\n",
       "                                         job1_x_qual   job1_level  \\\n",
       "0    Yes: the qualification was a formal requirement  Entry level   \n",
       "1    Yes: the qualification was a formal requirement  Entry level   \n",
       "2                                                NaN          NaN   \n",
       "3  Yes: while the qualification was not a formal ...   Managerial   \n",
       "4             No: the qualification was not required  Entry level   \n",
       "\n",
       "  job1_via_NYSC car_rent_from_job1  \n",
       "0            No                 No  \n",
       "1            No                 No  \n",
       "2            No                NaN  \n",
       "3            No                 No  \n",
       "4            No                 No  "
      ]
     },
     "execution_count": 6,
     "metadata": {},
     "output_type": "execute_result"
    }
   ],
   "source": [
    "#viewing the first five rows of the dataset\n",
    "df.head()"
   ]
  },
  {
   "cell_type": "code",
   "execution_count": 7,
   "metadata": {
    "scrolled": true
   },
   "outputs": [
    {
     "name": "stdout",
     "output_type": "stream",
     "text": [
      "<class 'pandas.core.frame.DataFrame'>\n",
      "RangeIndex: 5218 entries, 0 to 5217\n",
      "Data columns (total 16 columns):\n",
      " #   Column                Non-Null Count  Dtype \n",
      "---  ------                --------------  ----- \n",
      " 0   gender                5218 non-null   object\n",
      " 1   grad_year             5218 non-null   int64 \n",
      " 2   course                5218 non-null   object\n",
      " 3   Poly_Uni_attended     5218 non-null   object\n",
      " 4   Uni_Poly_Type         5218 non-null   object\n",
      " 5   qualification         5218 non-null   object\n",
      " 6   NYSC_complete         5218 non-null   object\n",
      " 7   course_helped_emp     3431 non-null   object\n",
      " 8   course_helped_skills  3431 non-null   object\n",
      " 9   best_sector           3296 non-null   object\n",
      " 10  job_search_mode       3431 non-null   object\n",
      " 11  job1_reason           1655 non-null   object\n",
      " 12  job1_x_qual           1655 non-null   object\n",
      " 13  job1_level            1655 non-null   object\n",
      " 14  job1_via_NYSC         5218 non-null   object\n",
      " 15  car_rent_from_job1    3431 non-null   object\n",
      "dtypes: int64(1), object(15)\n",
      "memory usage: 652.4+ KB\n"
     ]
    }
   ],
   "source": [
    "#extracting details of the dataset\n",
    "df.info()"
   ]
  },
  {
   "cell_type": "markdown",
   "metadata": {},
   "source": [
    "All columns present are of the 'object type' and just the graduation year is an 'integer type'\n",
    "The number of cells that are not empty are also shown. The gender row has 5218 all filled up with actual values\n",
    "And the best sector has 3296 rows filled up with actual values while the rest rows(1922) in that column are empty"
   ]
  },
  {
   "cell_type": "code",
   "execution_count": 8,
   "metadata": {},
   "outputs": [
    {
     "data": {
      "text/plain": [
       "(5218, 16)"
      ]
     },
     "execution_count": 8,
     "metadata": {},
     "output_type": "execute_result"
    }
   ],
   "source": [
    "#getting the number of rows and columns\n",
    "df.shape"
   ]
  },
  {
   "cell_type": "markdown",
   "metadata": {},
   "source": [
    "The dataset has 5218 rows and 16 columns"
   ]
  },
  {
   "cell_type": "code",
   "execution_count": 9,
   "metadata": {},
   "outputs": [
    {
     "data": {
      "text/plain": [
       "gender                     0\n",
       "grad_year                  0\n",
       "course                     0\n",
       "Poly_Uni_attended          0\n",
       "Uni_Poly_Type              0\n",
       "qualification              0\n",
       "NYSC_complete              0\n",
       "course_helped_emp       1787\n",
       "course_helped_skills    1787\n",
       "best_sector             1922\n",
       "job_search_mode         1787\n",
       "job1_reason             3563\n",
       "job1_x_qual             3563\n",
       "job1_level              3563\n",
       "job1_via_NYSC              0\n",
       "car_rent_from_job1      1787\n",
       "dtype: int64"
      ]
     },
     "execution_count": 9,
     "metadata": {},
     "output_type": "execute_result"
    }
   ],
   "source": [
    "#viewing the number of empty rows this time around\n",
    "df.isnull().sum()"
   ]
  },
  {
   "cell_type": "markdown",
   "metadata": {},
   "source": [
    "It is majorly 8 columns that don't have null values. They are gender, grad_year, course, Poly_Uni_attended, qualfication,\n",
    "NYSC_complete and job1_via NYSC"
   ]
  },
  {
   "cell_type": "markdown",
   "metadata": {},
   "source": [
    "# EXPLORATORY DATA ANALYSIS"
   ]
  },
  {
   "cell_type": "code",
   "execution_count": 10,
   "metadata": {},
   "outputs": [
    {
     "data": {
      "text/plain": [
       "array([2014, 2013, 2017, 2015, 2016], dtype=int64)"
      ]
     },
     "execution_count": 10,
     "metadata": {},
     "output_type": "execute_result"
    }
   ],
   "source": [
    "#showing all possible values in the grad_year column\n",
    "df['grad_year'].unique()"
   ]
  },
  {
   "cell_type": "code",
   "execution_count": 11,
   "metadata": {},
   "outputs": [
    {
     "data": {
      "text/plain": [
       "2015    1327\n",
       "2017    1259\n",
       "2016    1214\n",
       "2014     824\n",
       "2013     594\n",
       "Name: grad_year, dtype: int64"
      ]
     },
     "execution_count": 11,
     "metadata": {},
     "output_type": "execute_result"
    }
   ],
   "source": [
    "df['grad_year'].value_counts()"
   ]
  },
  {
   "cell_type": "code",
   "execution_count": 12,
   "metadata": {
    "scrolled": false
   },
   "outputs": [
    {
     "data": {
      "text/plain": [
       "<AxesSubplot:xlabel='grad_year', ylabel='count'>"
      ]
     },
     "execution_count": 12,
     "metadata": {},
     "output_type": "execute_result"
    },
    {
     "data": {
      "image/png": "[encoded data removed]",
      "text/plain": [
       "<Figure size 432x288 with 1 Axes>"
      ]
     },
     "metadata": {
      "needs_background": "light"
     },
     "output_type": "display_data"
    }
   ],
   "source": [
    "sns.countplot(data=df, x=df['grad_year'])"
   ]
  },
  {
   "cell_type": "markdown",
   "metadata": {},
   "source": [
    "Most graduates for this survey graduated in 2015, 2016 and 2017. And the range of graduates' graduating year for this survey is between 2013 to 2017. The highest number of graduates for this survey are from the year 2015; A total of 1327."
   ]
  },
  {
   "cell_type": "code",
   "execution_count": 13,
   "metadata": {},
   "outputs": [
    {
     "data": {
      "text/plain": [
       "array(['Male', 'Female', 'Prefer not to say'], dtype=object)"
      ]
     },
     "execution_count": 13,
     "metadata": {},
     "output_type": "execute_result"
    }
   ],
   "source": [
    "#showing all possible values in the gender column\n",
    "df['gender'].unique()"
   ]
  },
  {
   "cell_type": "code",
   "execution_count": 14,
   "metadata": {},
   "outputs": [
    {
     "data": {
      "text/plain": [
       "Male                 2623\n",
       "Female               2592\n",
       "Prefer not to say       3\n",
       "Name: gender, dtype: int64"
      ]
     },
     "execution_count": 14,
     "metadata": {},
     "output_type": "execute_result"
    }
   ],
   "source": [
    "#Number of males females and those who don't specify\n",
    "df['gender'].value_counts()"
   ]
  },
  {
   "cell_type": "code",
   "execution_count": 15,
   "metadata": {
    "scrolled": true
   },
   "outputs": [
    {
     "data": {
      "text/plain": [
       "<AxesSubplot:xlabel='gender', ylabel='count'>"
      ]
     },
     "execution_count": 15,
     "metadata": {},
     "output_type": "execute_result"
    },
    {
     "data": {
      "image/png": "[encoded data removed]",
      "text/plain": [
       "<Figure size 432x288 with 1 Axes>"
      ]
     },
     "metadata": {
      "needs_background": "light"
     },
     "output_type": "display_data"
    }
   ],
   "source": [
    "sns.countplot(data= df, x=df['gender'])"
   ]
  },
  {
   "cell_type": "markdown",
   "metadata": {},
   "source": [
    "From above, we see that the values in the gender column are Male, Female and Prefer not to say. The dataset is balanced between male and female but unbalanced when we consider the 'prefer not to say' option.\n",
    "The prefer not to say option is quite low (3). This might be as a result of the few people that identify as non binary in Nigeria or people who choose to keep their identity private for this survey. And although slight, female graduates are seen to be lesser than male graduates."
   ]
  },
  {
   "cell_type": "code",
   "execution_count": 16,
   "metadata": {},
   "outputs": [
    {
     "data": {
      "text/plain": [
       "158"
      ]
     },
     "execution_count": 16,
     "metadata": {},
     "output_type": "execute_result"
    }
   ],
   "source": [
    "#Displaying the number of different Universities and Polytechniques represented\n",
    "df['Poly_Uni_attended'].nunique()"
   ]
  },
  {
   "cell_type": "markdown",
   "metadata": {},
   "source": [
    "There are different polytechnics and university represented in this survey. There are a total of 158 unique schools \n",
    "represented here."
   ]
  },
  {
   "cell_type": "code",
   "execution_count": 17,
   "metadata": {},
   "outputs": [
    {
     "data": {
      "text/plain": [
       "University of Lagos                                        527\n",
       "Covenant University Ota                                    432\n",
       "Obafemi Awolowo University,Ile-Ife                         325\n",
       "Babcock University,Ilishan-Remo                            213\n",
       "University of Nigeria, Nsukka                              208\n",
       "                                                          ... \n",
       "Grace Polytechnic, Surulere, Lagos State.                    1\n",
       "Heritage Polytechnic, Ikot Udota, Eket, Akwa Ibom State      1\n",
       "Umaru Ali Shinkafi Polytechnic, Sokoto, Sokoto State.        1\n",
       "Taraba State University, Jalingo                             1\n",
       "Salem University,Lokoja                                      1\n",
       "Name: Poly_Uni_attended, Length: 158, dtype: int64"
      ]
     },
     "execution_count": 17,
     "metadata": {},
     "output_type": "execute_result"
    }
   ],
   "source": [
    "#Displaying these unique Universities and Polytechniques and the nymber of times they are represented in rows\n",
    "df['Poly_Uni_attended'].value_counts()"
   ]
  },
  {
   "cell_type": "markdown",
   "metadata": {},
   "source": [
    "University of Lagos has the highest number of students in this survey, followed by Covenant University.\n",
    "Dorben Polytechnique has the lowest number of students represented in this survey as well as Federal Polytechnique, Mubi \n",
    "and others.\n",
    "The datasets aren't quite balanced here. Comparing the number of rows covered by Lagos State Graduate and by Dorben Poylytechnique, this shows that the dataset isn't quite representing of all schools in Nigeria."
   ]
  },
  {
   "cell_type": "code",
   "execution_count": 18,
   "metadata": {},
   "outputs": [
    {
     "data": {
      "text/plain": [
       "Federal       2808\n",
       "Private       1133\n",
       "State         1126\n",
       "Foreign        136\n",
       "Indigenous      15\n",
       "Name: Uni_Poly_Type, dtype: int64"
      ]
     },
     "execution_count": 18,
     "metadata": {},
     "output_type": "execute_result"
    }
   ],
   "source": [
    "#Showing the number of rows occupied by Universities and Polytechnique Types\n",
    "df['Uni_Poly_Type'].value_counts()"
   ]
  },
  {
   "cell_type": "markdown",
   "metadata": {},
   "source": [
    "Federal Universities and Polytechniques have the highest number of representation followed by Private Universities,\n",
    "then State, Foreign schools and other Nigerian Schools not mentioned by names. The number from Federal Universities is quite understandable as most Nigerian Universitites and colleges are owned by the Federal Government."
   ]
  },
  {
   "cell_type": "code",
   "execution_count": 19,
   "metadata": {},
   "outputs": [
    {
     "data": {
      "text/plain": [
       "Bachelor's degree                  4401\n",
       "Higher National Diploma (HND)       368\n",
       "Master's degree                     306\n",
       "Ordinary National Diploma (OND)     116\n",
       "MBA degree                           20\n",
       "PhDs/Doctorate Degree                 7\n",
       "Name: qualification, dtype: int64"
      ]
     },
     "execution_count": 19,
     "metadata": {},
     "output_type": "execute_result"
    }
   ],
   "source": [
    "#Displaying the number of people represented that had various qualifications\n",
    "df['qualification'].value_counts()"
   ]
  },
  {
   "cell_type": "code",
   "execution_count": 20,
   "metadata": {},
   "outputs": [
    {
     "data": {
      "text/plain": [
       "<AxesSubplot:xlabel='count', ylabel='qualification'>"
      ]
     },
     "execution_count": 20,
     "metadata": {},
     "output_type": "execute_result"
    },
    {
     "data": {
      "image/png": "[encoded data removed]",
      "text/plain": [
       "<Figure size 432x288 with 1 Axes>"
      ]
     },
     "metadata": {
      "needs_background": "light"
     },
     "output_type": "display_data"
    }
   ],
   "source": [
    "sns.countplot(data= df,y=df['qualification'])"
   ]
  },
  {
   "cell_type": "markdown",
   "metadata": {},
   "source": [
    "Bachelors Degee Holders are highly represented in this survey, followed by HND, Masters, OND, MBA and PhD's. From this survey, it is observed that most Nigerians prefer to go through Universities than Polytechnics."
   ]
  },
  {
   "cell_type": "code",
   "execution_count": 21,
   "metadata": {},
   "outputs": [
    {
     "data": {
      "text/plain": [
       "Personal contacts, including family and friends                     1448\n",
       "Social media/professional networking sites                           639\n",
       "Recruitment agency/Online job site                                   612\n",
       "Media (e.g. newspaper/magazine advertisement)                        267\n",
       "Internship                                                           219\n",
       "University/polytechnic (e.g. Careers Service, lecturer, website)     151\n",
       "Employer's website                                                    95\n",
       "Name: job_search_mode, dtype: int64"
      ]
     },
     "execution_count": 21,
     "metadata": {},
     "output_type": "execute_result"
    }
   ],
   "source": [
    "#The unique values in the job search mode column and the number of times they appear in the entire dataset.\n",
    "df['job_search_mode'].value_counts()"
   ]
  },
  {
   "cell_type": "code",
   "execution_count": 22,
   "metadata": {},
   "outputs": [
    {
     "data": {
      "image/png": "[encoded data removed]",
      "text/plain": [
       "<Figure size 360x360 with 1 Axes>"
      ]
     },
     "metadata": {},
     "output_type": "display_data"
    }
   ],
   "source": [
    "plt.figure(figsize=(5,5))\n",
    "explode=(0.1,0,0,0,0,0,0)\n",
    "sm=df['job_search_mode'].value_counts()\n",
    "uv=df['job_search_mode'].unique()\n",
    "labels=['Personal contacts, including family and friends','Social media/professional networking sites', 'Recruitment agency/Online job site', 'Media e.g. newspaper/magazine advertisement','Internship', 'University/polytechnic e.g. Careers Service, lecturer, website' , 'Employers website']\n",
    "plt.pie(data=df,explode=explode, x=sm, labels=labels, autopct='%1.1f%%', shadow=True)\n",
    "plt.axis('equal')\n",
    "plt.show()"
   ]
  },
  {
   "cell_type": "markdown",
   "metadata": {},
   "source": [
    "Most graduates search for jobs or hear about jobs via personal contacts from family and friends. Social media is the second major place people search for jobs or get job vacancy information from. Recruitment agencies and online job sites is the third main place people get job vacancy information from. People barely get news about job vacancies directly from The employers websites."
   ]
  },
  {
   "cell_type": "code",
   "execution_count": 23,
   "metadata": {},
   "outputs": [
    {
     "data": {
      "text/plain": [
       "No                              3561\n",
       "I have not completed my NYSC     860\n",
       "Yes                              797\n",
       "Name: job1_via_NYSC, dtype: int64"
      ]
     },
     "execution_count": 23,
     "metadata": {},
     "output_type": "execute_result"
    }
   ],
   "source": [
    "#The number of people who eventually got their jobs via NYSC year\n",
    "df['job1_via_NYSC'].value_counts()"
   ]
  },
  {
   "cell_type": "code",
   "execution_count": 24,
   "metadata": {},
   "outputs": [
    {
     "data": {
      "image/png": "[encoded data removed]",
      "text/plain": [
       "<Figure size 360x360 with 1 Axes>"
      ]
     },
     "metadata": {},
     "output_type": "display_data"
    }
   ],
   "source": [
    "plt.figure(figsize=(5,5))\n",
    "explode=(0.1,0,0)\n",
    "sm=df['job1_via_NYSC'].value_counts()\n",
    "uv=df['job1_via_NYSC'].unique()\n",
    "labels=['No','I have not completed my NYSC', 'Yes']\n",
    "plt.pie(data=df,explode=explode, x=sm, labels=labels, autopct='%1.1f%%', shadow=True)\n",
    "plt.axis('equal')\n",
    "plt.show()"
   ]
  },
  {
   "cell_type": "markdown",
   "metadata": {},
   "source": [
    "From the available rows in the job1_via NYSC column, we can see that people barely get their first jobs through NYSC (either via retainment, recommendation, posting to a different branch of the same organisation or any way related). And just a few get their first jobs via NYSC."
   ]
  },
  {
   "cell_type": "code",
   "execution_count": 25,
   "metadata": {},
   "outputs": [
    {
     "data": {
      "text/plain": [
       "Computer Science                                        459\n",
       "Accountancy                                             373\n",
       "Economics                                               321\n",
       "Electrical & Electronic Engineering                     213\n",
       "Mass Communication (Communication and Language Arts)    204\n",
       "                                                       ... \n",
       "Igbo Linguistics                                          1\n",
       "Department of Pharmacology and Toxicology                 1\n",
       "Medical Biochemistry                                      1\n",
       "Veterinary Physiology/Pharmacology                        1\n",
       "Archeology and Tourism                                    1\n",
       "Name: course, Length: 127, dtype: int64"
      ]
     },
     "execution_count": 25,
     "metadata": {},
     "output_type": "execute_result"
    }
   ],
   "source": [
    "df.course.value_counts()"
   ]
  },
  {
   "cell_type": "code",
   "execution_count": 26,
   "metadata": {},
   "outputs": [
    {
     "data": {
      "text/plain": [
       "Federal       2808\n",
       "Private       1133\n",
       "State         1126\n",
       "Foreign        136\n",
       "Indigenous      15\n",
       "Name: Uni_Poly_Type, dtype: int64"
      ]
     },
     "execution_count": 26,
     "metadata": {},
     "output_type": "execute_result"
    }
   ],
   "source": [
    "df['Uni_Poly_Type'].value_counts()"
   ]
  },
  {
   "cell_type": "code",
   "execution_count": 27,
   "metadata": {},
   "outputs": [
    {
     "data": {
      "text/plain": [
       "<AxesSubplot:xlabel='Uni_Poly_Type'>"
      ]
     },
     "execution_count": 27,
     "metadata": {},
     "output_type": "execute_result"
    },
    {
     "data": {
      "image/png": "[encoded data removed]",
      "text/plain": [
       "<Figure size 432x288 with 1 Axes>"
      ]
     },
     "metadata": {
      "needs_background": "light"
     },
     "output_type": "display_data"
    }
   ],
   "source": [
    "sns.barplot(data= df, y=df['Uni_Poly_Type'].unique(),x=df['Uni_Poly_Type'].value_counts())"
   ]
  },
  {
   "cell_type": "markdown",
   "metadata": {},
   "source": [
    "# Preparation the dataset for the Predictive Model"
   ]
  },
  {
   "cell_type": "code",
   "execution_count": 28,
   "metadata": {},
   "outputs": [],
   "source": [
    "#dropping the 'Prefered Not to say' rows in the gender column so as to basically balance the dataset in terms of gender\n",
    "#...since they aren't much\n",
    "g_drop = df[df['gender']=='Prefer not to say'].index\n",
    "df.drop(g_drop, axis = 0, inplace = True)"
   ]
  },
  {
   "cell_type": "code",
   "execution_count": 29,
   "metadata": {},
   "outputs": [],
   "source": [
    "#dropping the 'ongoing corpers' and corpers who haven't served\n",
    "#selecting only coppers who have served\n",
    "NYSC_drop = df[df['NYSC_complete']!='Yes'].index\n",
    "df.drop(NYSC_drop, axis = 0, inplace = True)"
   ]
  },
  {
   "cell_type": "code",
   "execution_count": 30,
   "metadata": {},
   "outputs": [
    {
     "data": {
      "text/plain": [
       "(3417, 16)"
      ]
     },
     "execution_count": 30,
     "metadata": {},
     "output_type": "execute_result"
    }
   ],
   "source": [
    "#checking the number of rows after the drop\n",
    "df.shape"
   ]
  },
  {
   "cell_type": "code",
   "execution_count": 31,
   "metadata": {
    "scrolled": true
   },
   "outputs": [
    {
     "data": {
      "text/html": [
       "<div>\n",
       "<style scoped>\n",
       "    .dataframe tbody tr th:only-of-type {\n",
       "        vertical-align: middle;\n",
       "    }\n",
       "\n",
       "    .dataframe tbody tr th {\n",
       "        vertical-align: top;\n",
       "    }\n",
       "\n",
       "    .dataframe thead th {\n",
       "        text-align: right;\n",
       "    }\n",
       "</style>\n",
       "<table border=\"1\" class=\"dataframe\">\n",
       "  <thead>\n",
       "    <tr style=\"text-align: right;\">\n",
       "      <th></th>\n",
       "      <th>gender</th>\n",
       "      <th>grad_year</th>\n",
       "      <th>course</th>\n",
       "      <th>Poly_Uni_attended</th>\n",
       "      <th>Uni_Poly_Type</th>\n",
       "      <th>qualification</th>\n",
       "      <th>NYSC_complete</th>\n",
       "      <th>course_helped_emp</th>\n",
       "      <th>course_helped_skills</th>\n",
       "      <th>best_sector</th>\n",
       "      <th>job_search_mode</th>\n",
       "      <th>job1_reason</th>\n",
       "      <th>job1_x_qual</th>\n",
       "      <th>job1_level</th>\n",
       "      <th>job1_via_NYSC</th>\n",
       "      <th>car_rent_from_job1</th>\n",
       "    </tr>\n",
       "  </thead>\n",
       "  <tbody>\n",
       "    <tr>\n",
       "      <th>0</th>\n",
       "      <td>Male</td>\n",
       "      <td>2014</td>\n",
       "      <td>Psychology</td>\n",
       "      <td>Obafemi Awolowo University,Ile-Ife</td>\n",
       "      <td>Federal</td>\n",
       "      <td>Bachelor's degree</td>\n",
       "      <td>Yes</td>\n",
       "      <td>Strongly Disagree</td>\n",
       "      <td>Critical thinking skills, Ability to solve com...</td>\n",
       "      <td>Media</td>\n",
       "      <td>Internship</td>\n",
       "      <td>To see if I would like the type of work it inv...</td>\n",
       "      <td>Yes: the qualification was a formal requirement</td>\n",
       "      <td>Entry level</td>\n",
       "      <td>No</td>\n",
       "      <td>No</td>\n",
       "    </tr>\n",
       "    <tr>\n",
       "      <th>1</th>\n",
       "      <td>Female</td>\n",
       "      <td>2013</td>\n",
       "      <td>Economics</td>\n",
       "      <td>Bells University of Technology, Otta</td>\n",
       "      <td>Private</td>\n",
       "      <td>Bachelor's degree</td>\n",
       "      <td>Yes</td>\n",
       "      <td>Disagree</td>\n",
       "      <td>Ability to work with others, Written communica...</td>\n",
       "      <td>Consulting</td>\n",
       "      <td>Employer's website</td>\n",
       "      <td>It fitted into my career plan/it was exactly t...</td>\n",
       "      <td>Yes: the qualification was a formal requirement</td>\n",
       "      <td>Entry level</td>\n",
       "      <td>No</td>\n",
       "      <td>No</td>\n",
       "    </tr>\n",
       "    <tr>\n",
       "      <th>2</th>\n",
       "      <td>Male</td>\n",
       "      <td>2017</td>\n",
       "      <td>Mass Communication (Communication and Language...</td>\n",
       "      <td>Bowen University, Iwo</td>\n",
       "      <td>Private</td>\n",
       "      <td>Master's degree</td>\n",
       "      <td>Yes</td>\n",
       "      <td>NaN</td>\n",
       "      <td>NaN</td>\n",
       "      <td>NaN</td>\n",
       "      <td>NaN</td>\n",
       "      <td>NaN</td>\n",
       "      <td>NaN</td>\n",
       "      <td>NaN</td>\n",
       "      <td>No</td>\n",
       "      <td>NaN</td>\n",
       "    </tr>\n",
       "    <tr>\n",
       "      <th>3</th>\n",
       "      <td>Female</td>\n",
       "      <td>2013</td>\n",
       "      <td>Statistics</td>\n",
       "      <td>Ekiti State University</td>\n",
       "      <td>State</td>\n",
       "      <td>Bachelor's degree</td>\n",
       "      <td>Yes</td>\n",
       "      <td>Agree</td>\n",
       "      <td>Critical thinking skills</td>\n",
       "      <td>Advertising / Marketing / Comms</td>\n",
       "      <td>Personal contacts, including family and friends</td>\n",
       "      <td>To gain and broaden my experience in order to ...</td>\n",
       "      <td>Yes: while the qualification was not a formal ...</td>\n",
       "      <td>Managerial</td>\n",
       "      <td>No</td>\n",
       "      <td>No</td>\n",
       "    </tr>\n",
       "    <tr>\n",
       "      <th>5</th>\n",
       "      <td>Male</td>\n",
       "      <td>2013</td>\n",
       "      <td>Economics</td>\n",
       "      <td>Bowen University, Iwo</td>\n",
       "      <td>Private</td>\n",
       "      <td>Higher National Diploma (HND)</td>\n",
       "      <td>Yes</td>\n",
       "      <td>Strongly Disagree</td>\n",
       "      <td>Critical thinking skills, Ability to work with...</td>\n",
       "      <td>Creatives/Art/Design</td>\n",
       "      <td>University/polytechnic (e.g. Careers Service, ...</td>\n",
       "      <td>It fitted into my career plan/it was exactly t...</td>\n",
       "      <td>Yes: the qualification was a formal requirement</td>\n",
       "      <td>Entry level</td>\n",
       "      <td>No</td>\n",
       "      <td>No</td>\n",
       "    </tr>\n",
       "  </tbody>\n",
       "</table>\n",
       "</div>"
      ],
      "text/plain": [
       "   gender  grad_year                                             course  \\\n",
       "0    Male       2014                                         Psychology   \n",
       "1  Female       2013                                          Economics   \n",
       "2    Male       2017  Mass Communication (Communication and Language...   \n",
       "3  Female       2013                                         Statistics   \n",
       "5    Male       2013                                          Economics   \n",
       "\n",
       "                      Poly_Uni_attended Uni_Poly_Type  \\\n",
       "0    Obafemi Awolowo University,Ile-Ife       Federal   \n",
       "1  Bells University of Technology, Otta       Private   \n",
       "2                 Bowen University, Iwo       Private   \n",
       "3                Ekiti State University         State   \n",
       "5                 Bowen University, Iwo       Private   \n",
       "\n",
       "                   qualification NYSC_complete  course_helped_emp  \\\n",
       "0              Bachelor's degree           Yes  Strongly Disagree   \n",
       "1              Bachelor's degree           Yes           Disagree   \n",
       "2                Master's degree           Yes                NaN   \n",
       "3              Bachelor's degree           Yes              Agree   \n",
       "5  Higher National Diploma (HND)           Yes  Strongly Disagree   \n",
       "\n",
       "                                course_helped_skills  \\\n",
       "0  Critical thinking skills, Ability to solve com...   \n",
       "1  Ability to work with others, Written communica...   \n",
       "2                                                NaN   \n",
       "3                           Critical thinking skills   \n",
       "5  Critical thinking skills, Ability to work with...   \n",
       "\n",
       "                       best_sector  \\\n",
       "0                            Media   \n",
       "1                       Consulting   \n",
       "2                              NaN   \n",
       "3  Advertising / Marketing / Comms   \n",
       "5             Creatives/Art/Design   \n",
       "\n",
       "                                     job_search_mode  \\\n",
       "0                                         Internship   \n",
       "1                                 Employer's website   \n",
       "2                                                NaN   \n",
       "3    Personal contacts, including family and friends   \n",
       "5  University/polytechnic (e.g. Careers Service, ...   \n",
       "\n",
       "                                         job1_reason  \\\n",
       "0  To see if I would like the type of work it inv...   \n",
       "1  It fitted into my career plan/it was exactly t...   \n",
       "2                                                NaN   \n",
       "3  To gain and broaden my experience in order to ...   \n",
       "5  It fitted into my career plan/it was exactly t...   \n",
       "\n",
       "                                         job1_x_qual   job1_level  \\\n",
       "0    Yes: the qualification was a formal requirement  Entry level   \n",
       "1    Yes: the qualification was a formal requirement  Entry level   \n",
       "2                                                NaN          NaN   \n",
       "3  Yes: while the qualification was not a formal ...   Managerial   \n",
       "5    Yes: the qualification was a formal requirement  Entry level   \n",
       "\n",
       "  job1_via_NYSC car_rent_from_job1  \n",
       "0            No                 No  \n",
       "1            No                 No  \n",
       "2            No                NaN  \n",
       "3            No                 No  \n",
       "5            No                 No  "
      ]
     },
     "execution_count": 31,
     "metadata": {},
     "output_type": "execute_result"
    }
   ],
   "source": [
    "#viewing the first 5 rows for more information\n",
    "df.head()"
   ]
  },
  {
   "cell_type": "markdown",
   "metadata": {},
   "source": [
    "From the above, University and polytechnic types are distributed as shown above.Federal schools being the higest represented\n",
    "and other nameless indigenous schools being the lowest."
   ]
  },
  {
   "cell_type": "code",
   "execution_count": 32,
   "metadata": {},
   "outputs": [],
   "source": [
    "#dropping column because they are irrelevant\n",
    "#dropping the nysc complete feature because i have made sure all values in that column is yes.\n",
    "df.drop(['car_rent_from_job1', 'course_helped_emp', 'course_helped_skills', 'best_sector', 'job1_reason', 'job1_x_qual', 'job1_x_qual', 'job1_level', 'grad_year', 'Poly_Uni_attended','NYSC_complete'], axis=1, inplace=True)\n"
   ]
  },
  {
   "cell_type": "code",
   "execution_count": 33,
   "metadata": {},
   "outputs": [],
   "source": [
    "#Filling the job_search mode with the mode(most occuring value) of that column which is via personal contact from family \n",
    "#and friends.\n",
    "for col in ['job_search_mode']:\n",
    "    df[col].fillna(df[col].mode()[0], inplace=True)"
   ]
  },
  {
   "cell_type": "code",
   "execution_count": 34,
   "metadata": {},
   "outputs": [
    {
     "data": {
      "text/plain": [
       "gender             0\n",
       "course             0\n",
       "Uni_Poly_Type      0\n",
       "qualification      0\n",
       "job_search_mode    0\n",
       "job1_via_NYSC      0\n",
       "dtype: int64"
      ]
     },
     "execution_count": 34,
     "metadata": {},
     "output_type": "execute_result"
    }
   ],
   "source": [
    "#checking \n",
    "df.isnull().sum()"
   ]
  },
  {
   "cell_type": "markdown",
   "metadata": {},
   "source": [
    "For the model, I'm choosing to drop these columns because they aren't quite balanced with the others. For example, the \n",
    "rest have 5218 rows while these ones above have 3431, 3296, and 1655. I'm also dropping most of them because they aren't relevant to the model being developed"
   ]
  },
  {
   "cell_type": "code",
   "execution_count": 35,
   "metadata": {},
   "outputs": [],
   "source": [
    "#converting all text data to numerical data\n",
    "def handle_non_numerical_data (df):\n",
    "    columns=df.columns.values\n",
    "    \n",
    "    for column in columns:\n",
    "        text_digit_vals={}\n",
    "        def convert_to_int(val):\n",
    "            return text_digit_vals[val]\n",
    "        \n",
    "        if df[column].dtype !=np.int64 and df[column].dtype!=np.float64:\n",
    "            column_contents=df[column].values.tolist()\n",
    "            unique_elements=set(column_contents)\n",
    "            x=0\n",
    "            for unique in unique_elements:\n",
    "                if unique not in text_digit_vals:\n",
    "                    text_digit_vals[unique]=x\n",
    "                    x+=1\n",
    "                    \n",
    "            df[column]=list(map(convert_to_int, df[column]))\n",
    "    return df\n",
    "\n",
    "\n",
    "df=handle_non_numerical_data(df)"
   ]
  },
  {
   "cell_type": "code",
   "execution_count": 36,
   "metadata": {},
   "outputs": [
    {
     "data": {
      "text/html": [
       "<div>\n",
       "<style scoped>\n",
       "    .dataframe tbody tr th:only-of-type {\n",
       "        vertical-align: middle;\n",
       "    }\n",
       "\n",
       "    .dataframe tbody tr th {\n",
       "        vertical-align: top;\n",
       "    }\n",
       "\n",
       "    .dataframe thead th {\n",
       "        text-align: right;\n",
       "    }\n",
       "</style>\n",
       "<table border=\"1\" class=\"dataframe\">\n",
       "  <thead>\n",
       "    <tr style=\"text-align: right;\">\n",
       "      <th></th>\n",
       "      <th>gender</th>\n",
       "      <th>course</th>\n",
       "      <th>Uni_Poly_Type</th>\n",
       "      <th>qualification</th>\n",
       "      <th>job_search_mode</th>\n",
       "      <th>job1_via_NYSC</th>\n",
       "    </tr>\n",
       "  </thead>\n",
       "  <tbody>\n",
       "    <tr>\n",
       "      <th>0</th>\n",
       "      <td>1</td>\n",
       "      <td>67</td>\n",
       "      <td>0</td>\n",
       "      <td>0</td>\n",
       "      <td>1</td>\n",
       "      <td>0</td>\n",
       "    </tr>\n",
       "    <tr>\n",
       "      <th>1</th>\n",
       "      <td>0</td>\n",
       "      <td>54</td>\n",
       "      <td>4</td>\n",
       "      <td>0</td>\n",
       "      <td>0</td>\n",
       "      <td>0</td>\n",
       "    </tr>\n",
       "    <tr>\n",
       "      <th>2</th>\n",
       "      <td>1</td>\n",
       "      <td>2</td>\n",
       "      <td>4</td>\n",
       "      <td>2</td>\n",
       "      <td>6</td>\n",
       "      <td>0</td>\n",
       "    </tr>\n",
       "    <tr>\n",
       "      <th>3</th>\n",
       "      <td>0</td>\n",
       "      <td>26</td>\n",
       "      <td>2</td>\n",
       "      <td>0</td>\n",
       "      <td>6</td>\n",
       "      <td>0</td>\n",
       "    </tr>\n",
       "    <tr>\n",
       "      <th>5</th>\n",
       "      <td>1</td>\n",
       "      <td>54</td>\n",
       "      <td>4</td>\n",
       "      <td>4</td>\n",
       "      <td>5</td>\n",
       "      <td>0</td>\n",
       "    </tr>\n",
       "  </tbody>\n",
       "</table>\n",
       "</div>"
      ],
      "text/plain": [
       "   gender  course  Uni_Poly_Type  qualification  job_search_mode  \\\n",
       "0       1      67              0              0                1   \n",
       "1       0      54              4              0                0   \n",
       "2       1       2              4              2                6   \n",
       "3       0      26              2              0                6   \n",
       "5       1      54              4              4                5   \n",
       "\n",
       "   job1_via_NYSC  \n",
       "0              0  \n",
       "1              0  \n",
       "2              0  \n",
       "3              0  \n",
       "5              0  "
      ]
     },
     "execution_count": 36,
     "metadata": {},
     "output_type": "execute_result"
    }
   ],
   "source": [
    "df.head()"
   ]
  },
  {
   "cell_type": "code",
   "execution_count": 37,
   "metadata": {},
   "outputs": [
    {
     "data": {
      "text/html": [
       "<div>\n",
       "<style scoped>\n",
       "    .dataframe tbody tr th:only-of-type {\n",
       "        vertical-align: middle;\n",
       "    }\n",
       "\n",
       "    .dataframe tbody tr th {\n",
       "        vertical-align: top;\n",
       "    }\n",
       "\n",
       "    .dataframe thead th {\n",
       "        text-align: right;\n",
       "    }\n",
       "</style>\n",
       "<table border=\"1\" class=\"dataframe\">\n",
       "  <thead>\n",
       "    <tr style=\"text-align: right;\">\n",
       "      <th></th>\n",
       "      <th>gender</th>\n",
       "      <th>course</th>\n",
       "      <th>Uni_Poly_Type</th>\n",
       "      <th>qualification</th>\n",
       "      <th>job_search_mode</th>\n",
       "      <th>job1_via_NYSC</th>\n",
       "    </tr>\n",
       "  </thead>\n",
       "  <tbody>\n",
       "    <tr>\n",
       "      <th>count</th>\n",
       "      <td>3417.000000</td>\n",
       "      <td>3417.000000</td>\n",
       "      <td>3417.000000</td>\n",
       "      <td>3417.000000</td>\n",
       "      <td>3417.000000</td>\n",
       "      <td>3417.000000</td>\n",
       "    </tr>\n",
       "    <tr>\n",
       "      <th>mean</th>\n",
       "      <td>0.526193</td>\n",
       "      <td>51.651156</td>\n",
       "      <td>1.462979</td>\n",
       "      <td>0.485221</td>\n",
       "      <td>4.594381</td>\n",
       "      <td>0.204565</td>\n",
       "    </tr>\n",
       "    <tr>\n",
       "      <th>std</th>\n",
       "      <td>0.499387</td>\n",
       "      <td>35.441793</td>\n",
       "      <td>1.636774</td>\n",
       "      <td>1.160370</td>\n",
       "      <td>1.848619</td>\n",
       "      <td>0.409921</td>\n",
       "    </tr>\n",
       "    <tr>\n",
       "      <th>min</th>\n",
       "      <td>0.000000</td>\n",
       "      <td>0.000000</td>\n",
       "      <td>0.000000</td>\n",
       "      <td>0.000000</td>\n",
       "      <td>0.000000</td>\n",
       "      <td>0.000000</td>\n",
       "    </tr>\n",
       "    <tr>\n",
       "      <th>25%</th>\n",
       "      <td>0.000000</td>\n",
       "      <td>21.000000</td>\n",
       "      <td>0.000000</td>\n",
       "      <td>0.000000</td>\n",
       "      <td>3.000000</td>\n",
       "      <td>0.000000</td>\n",
       "    </tr>\n",
       "    <tr>\n",
       "      <th>50%</th>\n",
       "      <td>1.000000</td>\n",
       "      <td>53.000000</td>\n",
       "      <td>0.000000</td>\n",
       "      <td>0.000000</td>\n",
       "      <td>6.000000</td>\n",
       "      <td>0.000000</td>\n",
       "    </tr>\n",
       "    <tr>\n",
       "      <th>75%</th>\n",
       "      <td>1.000000</td>\n",
       "      <td>86.000000</td>\n",
       "      <td>3.000000</td>\n",
       "      <td>0.000000</td>\n",
       "      <td>6.000000</td>\n",
       "      <td>0.000000</td>\n",
       "    </tr>\n",
       "    <tr>\n",
       "      <th>max</th>\n",
       "      <td>1.000000</td>\n",
       "      <td>121.000000</td>\n",
       "      <td>4.000000</td>\n",
       "      <td>4.000000</td>\n",
       "      <td>6.000000</td>\n",
       "      <td>2.000000</td>\n",
       "    </tr>\n",
       "  </tbody>\n",
       "</table>\n",
       "</div>"
      ],
      "text/plain": [
       "            gender       course  Uni_Poly_Type  qualification  \\\n",
       "count  3417.000000  3417.000000    3417.000000    3417.000000   \n",
       "mean      0.526193    51.651156       1.462979       0.485221   \n",
       "std       0.499387    35.441793       1.636774       1.160370   \n",
       "min       0.000000     0.000000       0.000000       0.000000   \n",
       "25%       0.000000    21.000000       0.000000       0.000000   \n",
       "50%       1.000000    53.000000       0.000000       0.000000   \n",
       "75%       1.000000    86.000000       3.000000       0.000000   \n",
       "max       1.000000   121.000000       4.000000       4.000000   \n",
       "\n",
       "       job_search_mode  job1_via_NYSC  \n",
       "count      3417.000000    3417.000000  \n",
       "mean          4.594381       0.204565  \n",
       "std           1.848619       0.409921  \n",
       "min           0.000000       0.000000  \n",
       "25%           3.000000       0.000000  \n",
       "50%           6.000000       0.000000  \n",
       "75%           6.000000       0.000000  \n",
       "max           6.000000       2.000000  "
      ]
     },
     "execution_count": 37,
     "metadata": {},
     "output_type": "execute_result"
    }
   ],
   "source": [
    "df.describe()\n"
   ]
  },
  {
   "cell_type": "markdown",
   "metadata": {},
   "source": [
    "The above shows that there are 121 different courses in the dataset."
   ]
  },
  {
   "cell_type": "code",
   "execution_count": 38,
   "metadata": {
    "scrolled": true
   },
   "outputs": [
    {
     "data": {
      "image/png": "[encoded data removed]",
      "text/plain": [
       "<Figure size 1008x1008 with 2 Axes>"
      ]
     },
     "metadata": {
      "needs_background": "light"
     },
     "output_type": "display_data"
    }
   ],
   "source": [
    "# Correlation of the features\n",
    "corr = df.corr()\n",
    "\n",
    "plt.figure(figsize=(14, 14))\n",
    "ax = sns.heatmap(\n",
    "    corr, \n",
    "    vmin=-1, vmax=1, center=0,\n",
    "    cmap=sns.diverging_palette(20, 220, n=200),\n",
    "    square=True, annot = True\n",
    ")\n",
    "ax.set_xticklabels(\n",
    "    ax.get_xticklabels(),\n",
    "    rotation=45,\n",
    "    horizontalalignment='right'\n",
    ")\n",
    "ax.set_ylim(len(corr)+0.5, -0.5);"
   ]
  },
  {
   "cell_type": "markdown",
   "metadata": {},
   "source": [
    "From the above we can see that there isnt't quite a correlation between features. Thus all the features can be used"
   ]
  },
  {
   "cell_type": "code",
   "execution_count": null,
   "metadata": {},
   "outputs": [],
   "source": []
  },
  {
   "cell_type": "code",
   "execution_count": 39,
   "metadata": {},
   "outputs": [],
   "source": [
    "x=np.array(df.drop(['job1_via_NYSC'], 1))\n",
    "x=preprocessing.scale(x)\n",
    "y=np.array(df['job1_via_NYSC'])\n",
    "x_train, x_test, y_train, y_test=train_test_split(x,y,test_size=0.30)"
   ]
  },
  {
   "cell_type": "code",
   "execution_count": 40,
   "metadata": {},
   "outputs": [
    {
     "name": "stdout",
     "output_type": "stream",
     "text": [
      "0.776803118908382\n",
      "0.8071936428272689\n"
     ]
    }
   ],
   "source": [
    "clf=SVC(gamma='auto', kernel='linear', C=10 )\n",
    "clf=clf.fit(x_train, y_train)\n",
    "SVM_accuracy_test=clf.score(x_test, y_test)\n",
    "SVM_accuracy_train=clf.score(x_train, y_train)\n",
    "print(SVM_accuracy_test)\n",
    "print(SVM_accuracy_train)"
   ]
  },
  {
   "cell_type": "code",
   "execution_count": 41,
   "metadata": {},
   "outputs": [
    {
     "name": "stdout",
     "output_type": "stream",
     "text": [
      "0.776803118908382\n",
      "0.8071936428272689\n"
     ]
    }
   ],
   "source": [
    "clf_L= LogisticRegression(max_iter=1000)\n",
    "clf_L=clf_L.fit(x_train, y_train)\n",
    "L_accuracy_test=clf_L.score(x_test, y_test)\n",
    "L_accuracy_train=clf_L.score(x_train, y_train)\n",
    "print(L_accuracy_test)\n",
    "print(L_accuracy_train)"
   ]
  },
  {
   "cell_type": "code",
   "execution_count": 42,
   "metadata": {},
   "outputs": [
    {
     "name": "stdout",
     "output_type": "stream",
     "text": [
      "0.7826510721247564\n",
      "0.8347971560016729\n"
     ]
    }
   ],
   "source": [
    "clf_D= DecisionTreeClassifier(max_depth=8, random_state=42)\n",
    "clf_D=clf_D.fit(x_train, y_train)\n",
    "D_accuracy_test=clf_D.score(x_test, y_test)\n",
    "D_accuracy_train=clf_D.score(x_train, y_train)\n",
    "print(D_accuracy_test)\n",
    "print(D_accuracy_train)"
   ]
  },
  {
   "cell_type": "code",
   "execution_count": 43,
   "metadata": {},
   "outputs": [],
   "source": [
    "clf_D='clf_D.pkl'\n",
    "pickle.dump(clf_D, open(clf_D, 'wb'))"
   ]
  },
  {
   "cell_type": "code",
   "execution_count": null,
   "metadata": {},
   "outputs": [],
   "source": []
  }
 ],
 "metadata": {
  "kernelspec": {
   "display_name": "Python 3",
   "language": "python",
   "name": "python3"
  },
  "language_info": {
   "codemirror_mode": {
    "name": "ipython",
    "version": 3
   },
   "file_extension": ".py",
   "mimetype": "text/x-python",
   "name": "python",
   "nbconvert_exporter": "python",
   "pygments_lexer": "ipython3",
   "version": "3.8.5"
  }
 },
 "nbformat": 4,
 "nbformat_minor": 4
}
